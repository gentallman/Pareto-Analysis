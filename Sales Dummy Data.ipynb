{
 "cells": [
  {
   "cell_type": "code",
   "execution_count": 2,
   "id": "003c6e26-eff6-4dec-899b-3228211763f3",
   "metadata": {},
   "outputs": [
    {
     "name": "stdout",
     "output_type": "stream",
     "text": [
      "          Date Dealer Code  Daily Sales ($)  Prior MTD ($)  Current MTD ($)  \\\n",
      "999 2024-02-01        D014             3273          95740            99013   \n",
      "149 2024-02-01        D044             6324          94261           100585   \n",
      "617 2024-02-01        D035             3699          60634            64333   \n",
      "622 2024-02-01        D041             6191          83160            89351   \n",
      "637 2024-02-01        D028             4246          85144            89390   \n",
      "\n",
      "     YoY MTD ($)  YoY MTD (%)  \n",
      "999       101898        -2.83  \n",
      "149       102043        -1.43  \n",
      "617        62535         2.88  \n",
      "622        91927        -2.80  \n",
      "637        89381         0.01  \n"
     ]
    }
   ],
   "source": [
    "import pandas as pd\n",
    "import numpy as np\n",
    "from datetime import datetime, timedelta\n",
    "\n",
    "# Set random seed for reproducibility\n",
    "np.random.seed(42)\n",
    "\n",
    "# Generate random dealer codes\n",
    "dealer_codes = [f\"D{str(i).zfill(3)}\" for i in range(1, 51)]  # 50 dealers\n",
    "\n",
    "# Generate random dates\n",
    "start_date = datetime(2024, 2, 1)\n",
    "date_list = [start_date + timedelta(days=i) for i in range(15)]  # 15 days range\n",
    "\n",
    "# Generate sales data\n",
    "records = []\n",
    "for _ in range(1000):  # Increased to 1000 records\n",
    "    dealer = np.random.choice(dealer_codes)\n",
    "    date = np.random.choice(date_list)\n",
    "    daily_sales = np.random.randint(3000, 7000)\n",
    "    prior_mtd = np.random.randint(50000, 100000)\n",
    "    current_mtd = prior_mtd + daily_sales\n",
    "    yoy_mtd = current_mtd - np.random.randint(-3000, 5000)  # Slight variation\n",
    "    yoy_mtd_pct = round(((current_mtd - yoy_mtd) / yoy_mtd) * 100, 2)\n",
    "    records.append([date, dealer, daily_sales, prior_mtd, current_mtd, yoy_mtd, yoy_mtd_pct])\n",
    "\n",
    "# Create DataFrame\n",
    "df = pd.DataFrame(records, columns=[\"Date\", \"Dealer Code\", \"Daily Sales ($)\", \"Prior MTD ($)\", \"Current MTD ($)\", \"YoY MTD ($)\", \"YoY MTD (%)\"])\n",
    "\n",
    "# Sort by Date\n",
    "df.sort_values(by=\"Date\", inplace=True)\n",
    "\n",
    "# Save to CSV\n",
    "df.to_csv(\"sales_data.csv\", index=False)\n",
    "\n",
    "# Display first few records\n",
    "print(df.head())"
   ]
  },
  {
   "cell_type": "code",
   "execution_count": null,
   "id": "5ab5dfc1-83f7-450b-b432-89896a6c80d3",
   "metadata": {},
   "outputs": [],
   "source": []
  }
 ],
 "metadata": {
  "kernelspec": {
   "display_name": "Python 3 (ipykernel)",
   "language": "python",
   "name": "python3"
  },
  "language_info": {
   "codemirror_mode": {
    "name": "ipython",
    "version": 3
   },
   "file_extension": ".py",
   "mimetype": "text/x-python",
   "name": "python",
   "nbconvert_exporter": "python",
   "pygments_lexer": "ipython3",
   "version": "3.12.3"
  }
 },
 "nbformat": 4,
 "nbformat_minor": 5
}
